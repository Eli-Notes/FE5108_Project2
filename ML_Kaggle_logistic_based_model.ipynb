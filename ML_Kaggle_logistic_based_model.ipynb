{
 "cells": [
  {
   "cell_type": "markdown",
   "metadata": {},
   "source": [
    "# Logit, Tree, RF, and LGBM\n",
    "1. Logistic Regression\n",
    "2. Decision Tree Classifier\n",
    "3. Random Forest Classifier\n",
    "4. Light Gradient Boosting Method\n",
    "\n",
    "# 1 Basic Procedures\n",
    "## 1.1 Importing necessary packages"
   ]
  },
  {
   "cell_type": "code",
   "execution_count": 1,
   "metadata": {
    "_cell_guid": "b1076dfc-b9ad-4769-8c92-a6c4dae69d19",
    "_kg_hide-output": true,
    "_uuid": "8f2839f25d086af736a60e9eeb907d3b93b6e0e5"
   },
   "outputs": [
    {
     "name": "stdout",
     "output_type": "stream",
     "text": [
      "['sample_submission.csv', 'test.csv', 'train.csv']\n"
     ]
    }
   ],
   "source": [
    "# Based on kernel provided by Kaggle\n",
    "# This Python 3 environment comes with many helpful analytics libraries installed\n",
    "# It is defined by the kaggle/python docker image: https://github.com/kaggle/docker-python\n",
    "\n",
    "import warnings\n",
    "import pprint\n",
    "\n",
    "# Data processing\n",
    "import numpy as np # linear algebra\n",
    "import pandas as pd # data processing, CSV file I/O (e.g. pd.read_csv)\n",
    "\n",
    "# Style\n",
    "import matplotlib.pyplot as plt\n",
    "import seaborn as sns # Seaborn visualization library\n",
    "sns.set(style=\"darkgrid\")\n",
    "\n",
    "# File System\n",
    "import os\n",
    "print(os.listdir(\"../input\"))\n",
    "\n",
    "# Memory management\n",
    "import gc # Garbage Collector\n",
    "%matplotlib inline\n",
    "# %matplotlib inline is a kind of magic fucntion\n",
    "# it sets up the integration so you can create multiple plot windows without interfering with the console session;\n",
    "# no need to use plt.show() anymore;\n",
    "\n",
    "# Any results you write to the current directory are saved as output."
   ]
  },
  {
   "cell_type": "markdown",
   "metadata": {},
   "source": [
    "## 1.2 Import Dataset"
   ]
  },
  {
   "cell_type": "markdown",
   "metadata": {},
   "source": [
    "### 1.2.1 Read CSV"
   ]
  },
  {
   "cell_type": "code",
   "execution_count": 2,
   "metadata": {
    "_kg_hide-output": true
   },
   "outputs": [
    {
     "name": "stdout",
     "output_type": "stream",
     "text": [
      "Wall time: 15.8 s\n",
      "Wall time: 17.3 s\n"
     ]
    }
   ],
   "source": [
    "# Read CSV\n",
    "%time train = pd.read_csv('../input/train.csv')\n",
    "%time test = pd.read_csv('../input/test.csv')"
   ]
  },
  {
   "cell_type": "markdown",
   "metadata": {},
   "source": [
    "### 1.2.2 How is the data like?"
   ]
  },
  {
   "cell_type": "code",
   "execution_count": 3,
   "metadata": {
    "_kg_hide-output": true
   },
   "outputs": [
    {
     "data": {
      "text/html": [
       "<div>\n",
       "<style scoped>\n",
       "    .dataframe tbody tr th:only-of-type {\n",
       "        vertical-align: middle;\n",
       "    }\n",
       "\n",
       "    .dataframe tbody tr th {\n",
       "        vertical-align: top;\n",
       "    }\n",
       "\n",
       "    .dataframe thead th {\n",
       "        text-align: right;\n",
       "    }\n",
       "</style>\n",
       "<table border=\"1\" class=\"dataframe\">\n",
       "  <thead>\n",
       "    <tr style=\"text-align: right;\">\n",
       "      <th></th>\n",
       "      <th>ID_code</th>\n",
       "      <th>target</th>\n",
       "      <th>var_0</th>\n",
       "      <th>var_1</th>\n",
       "      <th>var_2</th>\n",
       "      <th>var_3</th>\n",
       "      <th>var_4</th>\n",
       "      <th>var_5</th>\n",
       "      <th>var_6</th>\n",
       "      <th>var_7</th>\n",
       "      <th>...</th>\n",
       "      <th>var_190</th>\n",
       "      <th>var_191</th>\n",
       "      <th>var_192</th>\n",
       "      <th>var_193</th>\n",
       "      <th>var_194</th>\n",
       "      <th>var_195</th>\n",
       "      <th>var_196</th>\n",
       "      <th>var_197</th>\n",
       "      <th>var_198</th>\n",
       "      <th>var_199</th>\n",
       "    </tr>\n",
       "  </thead>\n",
       "  <tbody>\n",
       "    <tr>\n",
       "      <th>0</th>\n",
       "      <td>train_0</td>\n",
       "      <td>0</td>\n",
       "      <td>8.9255</td>\n",
       "      <td>-6.7863</td>\n",
       "      <td>11.9081</td>\n",
       "      <td>5.0930</td>\n",
       "      <td>11.4607</td>\n",
       "      <td>-9.2834</td>\n",
       "      <td>5.1187</td>\n",
       "      <td>18.6266</td>\n",
       "      <td>...</td>\n",
       "      <td>4.4354</td>\n",
       "      <td>3.9642</td>\n",
       "      <td>3.1364</td>\n",
       "      <td>1.6910</td>\n",
       "      <td>18.5227</td>\n",
       "      <td>-2.3978</td>\n",
       "      <td>7.8784</td>\n",
       "      <td>8.5635</td>\n",
       "      <td>12.7803</td>\n",
       "      <td>-1.0914</td>\n",
       "    </tr>\n",
       "    <tr>\n",
       "      <th>1</th>\n",
       "      <td>train_1</td>\n",
       "      <td>0</td>\n",
       "      <td>11.5006</td>\n",
       "      <td>-4.1473</td>\n",
       "      <td>13.8588</td>\n",
       "      <td>5.3890</td>\n",
       "      <td>12.3622</td>\n",
       "      <td>7.0433</td>\n",
       "      <td>5.6208</td>\n",
       "      <td>16.5338</td>\n",
       "      <td>...</td>\n",
       "      <td>7.6421</td>\n",
       "      <td>7.7214</td>\n",
       "      <td>2.5837</td>\n",
       "      <td>10.9516</td>\n",
       "      <td>15.4305</td>\n",
       "      <td>2.0339</td>\n",
       "      <td>8.1267</td>\n",
       "      <td>8.7889</td>\n",
       "      <td>18.3560</td>\n",
       "      <td>1.9518</td>\n",
       "    </tr>\n",
       "    <tr>\n",
       "      <th>2</th>\n",
       "      <td>train_2</td>\n",
       "      <td>0</td>\n",
       "      <td>8.6093</td>\n",
       "      <td>-2.7457</td>\n",
       "      <td>12.0805</td>\n",
       "      <td>7.8928</td>\n",
       "      <td>10.5825</td>\n",
       "      <td>-9.0837</td>\n",
       "      <td>6.9427</td>\n",
       "      <td>14.6155</td>\n",
       "      <td>...</td>\n",
       "      <td>2.9057</td>\n",
       "      <td>9.7905</td>\n",
       "      <td>1.6704</td>\n",
       "      <td>1.6858</td>\n",
       "      <td>21.6042</td>\n",
       "      <td>3.1417</td>\n",
       "      <td>-6.5213</td>\n",
       "      <td>8.2675</td>\n",
       "      <td>14.7222</td>\n",
       "      <td>0.3965</td>\n",
       "    </tr>\n",
       "  </tbody>\n",
       "</table>\n",
       "<p>3 rows × 202 columns</p>\n",
       "</div>"
      ],
      "text/plain": [
       "   ID_code  target    var_0   var_1    var_2   var_3    var_4   var_5   var_6  \\\n",
       "0  train_0       0   8.9255 -6.7863  11.9081  5.0930  11.4607 -9.2834  5.1187   \n",
       "1  train_1       0  11.5006 -4.1473  13.8588  5.3890  12.3622  7.0433  5.6208   \n",
       "2  train_2       0   8.6093 -2.7457  12.0805  7.8928  10.5825 -9.0837  6.9427   \n",
       "\n",
       "     var_7   ...     var_190  var_191  var_192  var_193  var_194  var_195  \\\n",
       "0  18.6266   ...      4.4354   3.9642   3.1364   1.6910  18.5227  -2.3978   \n",
       "1  16.5338   ...      7.6421   7.7214   2.5837  10.9516  15.4305   2.0339   \n",
       "2  14.6155   ...      2.9057   9.7905   1.6704   1.6858  21.6042   3.1417   \n",
       "\n",
       "   var_196  var_197  var_198  var_199  \n",
       "0   7.8784   8.5635  12.7803  -1.0914  \n",
       "1   8.1267   8.7889  18.3560   1.9518  \n",
       "2  -6.5213   8.2675  14.7222   0.3965  \n",
       "\n",
       "[3 rows x 202 columns]"
      ]
     },
     "execution_count": 3,
     "metadata": {},
     "output_type": "execute_result"
    }
   ],
   "source": [
    "# Look at first 5 records of the train dataset\n",
    "train.head(3)"
   ]
  },
  {
   "cell_type": "code",
   "execution_count": 4,
   "metadata": {
    "_kg_hide-output": true
   },
   "outputs": [
    {
     "name": "stdout",
     "output_type": "stream",
     "text": [
      "Train shape: (200000, 202) \n",
      "\n",
      "Test  shape: (200000, 201) \n",
      "\n",
      "Target variable:\n"
     ]
    },
    {
     "data": {
      "text/plain": [
       "0    179902\n",
       "1     20098\n",
       "Name: target, dtype: int64"
      ]
     },
     "execution_count": 4,
     "metadata": {},
     "output_type": "execute_result"
    }
   ],
   "source": [
    "# Check out the shape of the train and test sets\n",
    "print('Train shape:', train.shape,'\\n')\n",
    "print('Test  shape:', test.shape,'\\n')\n",
    "\n",
    "# Check the target values\n",
    "print('Target variable:')\n",
    "train['target'].value_counts()"
   ]
  },
  {
   "cell_type": "markdown",
   "metadata": {},
   "source": [
    "## 1.3 Import models"
   ]
  },
  {
   "cell_type": "code",
   "execution_count": 5,
   "metadata": {},
   "outputs": [],
   "source": [
    "#from sklearn.preprocessing import Imputer, MinMaxScaler\n",
    "from sklearn.metrics import roc_curve, roc_auc_score, auc, confusion_matrix, classification_report\n",
    "from sklearn.preprocessing import StandardScaler, MinMaxScaler\n",
    "from sklearn.model_selection import train_test_split, cross_val_score # , KFold\n",
    "from sklearn.linear_model import LogisticRegression, LogisticRegressionCV\n",
    "from sklearn.tree import DecisionTreeClassifier\n",
    "from sklearn.ensemble import RandomForestClassifier\n",
    "import lightgbm as lgb"
   ]
  },
  {
   "cell_type": "markdown",
   "metadata": {},
   "source": [
    "## 1.4 Process data\n",
    "### Split X and Y"
   ]
  },
  {
   "cell_type": "code",
   "execution_count": 6,
   "metadata": {},
   "outputs": [],
   "source": [
    "# Target variable from the training set\n",
    "Target = train['target']\n",
    "\n",
    "# Input dataset for training and testing\n",
    "train_inp = train.drop(columns = ['target', 'ID_code'])\n",
    "test_inp  = test.drop(columns = ['ID_code'])\n",
    "\n",
    "# List of feature names\n",
    "features = list(train_inp.columns)"
   ]
  },
  {
   "cell_type": "markdown",
   "metadata": {},
   "source": [
    "### Split data into training set and test set"
   ]
  },
  {
   "cell_type": "code",
   "execution_count": 7,
   "metadata": {
    "_kg_hide-output": true
   },
   "outputs": [
    {
     "name": "stdout",
     "output_type": "stream",
     "text": [
      "Raw Y_test:\n",
      "0    53951\n",
      "1     6049\n",
      "Name: target, dtype: int64 \n",
      "\n",
      "Shape of Train Set: (140000, 200)\n",
      "Shape of Test Set: (60000, 200)\n"
     ]
    }
   ],
   "source": [
    "# Split the data into training set and test set\n",
    "X_train, X_test, Y_train, Y_test = train_test_split(train_inp, Target, test_size= 0.3, random_state = 2019)\n",
    "print('Raw Y_test:')\n",
    "print(Y_test.value_counts(),'\\n')\n",
    "\n",
    "# check the shapes of training set and test set\n",
    "print('Shape of Train Set:', X_train.shape)\n",
    "print('Shape of Test Set:', X_test.shape)"
   ]
  },
  {
   "cell_type": "markdown",
   "metadata": {},
   "source": [
    "### Prepare 5050 data (discarded)"
   ]
  },
  {
   "cell_type": "code",
   "execution_count": 29,
   "metadata": {
    "_kg_hide-output": true
   },
   "outputs": [],
   "source": [
    "# Make test set 50:50\n",
    "#Y_test5050 = pd.concat([Y_test[Y_test == 1], Y_test[Y_test == 0][:Y_test.sum()]])\n",
    "#X_test5050 = X_test.reindex(Y_test5050.index)\n",
    "#print('\\nProcessed Y_test:\\n', Y_test5050.value_counts())\n",
    "#print('\\nShape of X_test:\\n', X_test5050.shape)\n",
    "#print('\\nHead of X_test:\\n', X_test5050.head(3))\n",
    "#print('\\nHead of Y_test\\n', Y_test5050.head(3))\n",
    "\n",
    "# make training set 5050\n",
    "Y_train5050 = pd.concat([Y_train[Y_train == 1], Y_train[Y_train == 0][:Y_train.sum()]])\n",
    "X_train5050 = X_train.reindex(Y_train5050.index)\n",
    "#print('\\nProcessed Y_test:\\n', Y_train5050.value_counts())\n",
    "#print('\\nShape of X_train:\\n', X_train5050.shape)\n",
    "#print('\\nHead of X_test:\\n',X_train5050.head(3))\n",
    "#print('\\nHead of Y_test:\\n',Y_train5050.head(3))"
   ]
  },
  {
   "cell_type": "markdown",
   "metadata": {},
   "source": [
    "## 1.5 General Functions"
   ]
  },
  {
   "cell_type": "code",
   "execution_count": 23,
   "metadata": {},
   "outputs": [],
   "source": [
    "# Performance function\n",
    "def performance(Y_test, Y_pred):\n",
    "    \n",
    "    Y_pred_int = [0 if i < 0.5 else 1 for i in Y_pred]\n",
    "    \n",
    "    # Confusion matrix\n",
    "    print('\\nConfusion Matrix:')\n",
    "    print(confusion_matrix(Y_test, Y_pred_int)) \n",
    "    \n",
    "    # Classification report\n",
    "    print('\\nClassification Report:')\n",
    "    print(classification_report(Y_test, Y_pred_int))\n",
    "    \n",
    "    # AUC\n",
    "    fpr, tpr, thresholds = roc_curve(Y_test, Y_pred, pos_label=1)\n",
    "    print('AUC:')\n",
    "    print(auc(fpr, tpr))"
   ]
  },
  {
   "cell_type": "markdown",
   "metadata": {},
   "source": [
    "# 2 Logistic Regression\n",
    "Logistic Regression is the most basic algorithm used for classification problems.\n",
    "* Future improvements:\n",
    "    * other solver (except lbfgs, liblinear), along with other penalty (l1)\n",
    "    * **Tuning the hyper-parameters**\n",
    "    * **ensemble learning methods**\n",
    "    * **cross validation** (Docu-sklearn P438: *sklearn.linear_model.LogisticRegressionCV*)\n",
    "* Problems:\n",
    "    * do I need to change the loss function?\n",
    "* Other things about logistic regression:\n",
    "    * If not specifying a solver, there will be \"FutureWarning: Default solver will be changed to 'lbfgs' in 0.22.\""
   ]
  },
  {
   "cell_type": "markdown",
   "metadata": {},
   "source": [
    "## 2.1 Logit in default\n",
    "* Reference: Sklearn-Documentation P1798 *sklearn.linear_model.LogisticRegression*\n",
    "    * in default in v0.20, penalty = 'l2', class_weight = 'balanced', solver = 'liblinear'\n",
    "* Unbalanced Model has AUC of 0.6. So we set class_weight = 'balanced'.\n",
    "* Solver:\n",
    "    * 'liblinear': slow but higher AUC.\n",
    "    * 'lbfgs':\n",
    "        * faster but **max_iter makes big difference, need more revision**;\n",
    "    * **need more reflection on solver**."
   ]
  },
  {
   "cell_type": "markdown",
   "metadata": {},
   "source": [
    "### 2.1.1 lbfgs 1000 (0.8566)"
   ]
  },
  {
   "cell_type": "code",
   "execution_count": 27,
   "metadata": {},
   "outputs": [
    {
     "name": "stdout",
     "output_type": "stream",
     "text": [
      "Wall time: 1min 4s\n",
      "\n",
      "Confusion Matrix:\n",
      "[[42271 11680]\n",
      " [ 1397  4652]]\n",
      "\n",
      "Classification Report:\n",
      "             precision    recall  f1-score   support\n",
      "\n",
      "          0       0.97      0.78      0.87     53951\n",
      "          1       0.28      0.77      0.42      6049\n",
      "\n",
      "avg / total       0.90      0.78      0.82     60000\n",
      "\n",
      "AUC:\n",
      "0.8566043771973504\n"
     ]
    }
   ],
   "source": [
    "# Create an object of Logistic Regression with default parameters\n",
    "logist = LogisticRegression(penalty = 'l2', class_weight = 'balanced', solver = 'lbfgs', max_iter = 1000)\n",
    "# Fit the training data on this object\n",
    "%time logist.fit(X_train, Y_train)\n",
    "# Predict Y\n",
    "Y_pred = logist.predict_proba(X_test)[:,1] # array, no need to be series\n",
    "# print the score\n",
    "performance(Y_test, Y_pred)"
   ]
  },
  {
   "cell_type": "markdown",
   "metadata": {},
   "source": [
    "### 2.1.2 liblinear (0.8582)"
   ]
  },
  {
   "cell_type": "code",
   "execution_count": 40,
   "metadata": {},
   "outputs": [
    {
     "name": "stdout",
     "output_type": "stream",
     "text": [
      "Wall time: 8min 30s\n",
      "\n",
      "Confusion Matrix:\n",
      "[[42381 11570]\n",
      " [ 1387  4662]]\n",
      "\n",
      "Classification Report:\n",
      "             precision    recall  f1-score   support\n",
      "\n",
      "          0       0.97      0.79      0.87     53951\n",
      "          1       0.29      0.77      0.42      6049\n",
      "\n",
      "avg / total       0.90      0.78      0.82     60000\n",
      "\n",
      "AUC:\n",
      "0.8582670021911073\n"
     ]
    }
   ],
   "source": [
    "# Create an object of Logistic Regression with default parameters\n",
    "logist = LogisticRegression(penalty = 'l2', class_weight = 'balanced', solver = 'liblinear')\n",
    "# Fit the training data on this object\n",
    "%time logist.fit(X_train, Y_train)\n",
    "# Predict Y\n",
    "Y_pred = logist.predict_proba(X_test)[:,1] # array, no need to be series\n",
    "# print the score\n",
    "performance(Y_test, Y_pred)"
   ]
  },
  {
   "cell_type": "markdown",
   "metadata": {},
   "source": [
    "* The precision of '1' is bad (only 0.28).\n",
    "* Penalty:\n",
    "    * smaller C = 0.001 (enhanced penalty) makes acc worse;\n",
    "    * bigger C makes no difference;\n",
    "    * so every feature counts;\n",
    "    * better no more feature selection on logit!\n",
    "    * that is, assuming no overfitting simply on 200 var.\n",
    "    * **need more reflection on penalty on logit**.\n",
    "* Try another method for unbalanced classification, training set 5050, in 2.3"
   ]
  },
  {
   "cell_type": "markdown",
   "metadata": {},
   "source": [
    "## 2.2 5050 Training\n",
    "* Not better than balanced method.\n",
    "* Suitable for further test."
   ]
  },
  {
   "cell_type": "markdown",
   "metadata": {},
   "source": [
    "### 2.2.1 lbfgs 1000 (0.8554)"
   ]
  },
  {
   "cell_type": "code",
   "execution_count": 34,
   "metadata": {},
   "outputs": [
    {
     "name": "stdout",
     "output_type": "stream",
     "text": [
      "Wall time: 13.1 s\n",
      "\n",
      "Confusion Matrix:\n",
      "[[42079 11872]\n",
      " [ 1393  4656]]\n",
      "\n",
      "Classification Report:\n",
      "             precision    recall  f1-score   support\n",
      "\n",
      "          0       0.97      0.78      0.86     53951\n",
      "          1       0.28      0.77      0.41      6049\n",
      "\n",
      "avg / total       0.90      0.78      0.82     60000\n",
      "\n",
      "AUC:\n",
      "0.8554300751569179\n"
     ]
    }
   ],
   "source": [
    "# Create an object of Logistic Regression with default parameters\n",
    "logist = LogisticRegression(penalty = 'l2', solver = 'lbfgs', max_iter = 1000)\n",
    "# Fit the training data on this object\n",
    "%time logist.fit(X_train5050, Y_train5050)\n",
    "# Predict Y\n",
    "Y_pred = logist.predict_proba(X_test)[:,1] # array, no need to be series\n",
    "# print the score\n",
    "performance(Y_test, Y_pred)"
   ]
  },
  {
   "cell_type": "markdown",
   "metadata": {},
   "source": [
    "### 2.2.2 liblinear (0.8572) baseline!"
   ]
  },
  {
   "cell_type": "code",
   "execution_count": 36,
   "metadata": {},
   "outputs": [
    {
     "name": "stdout",
     "output_type": "stream",
     "text": [
      "Wall time: 52.5 s\n",
      "\n",
      "Confusion Matrix:\n",
      "[[42188 11763]\n",
      " [ 1375  4674]]\n",
      "\n",
      "Classification Report:\n",
      "             precision    recall  f1-score   support\n",
      "\n",
      "          0       0.97      0.78      0.87     53951\n",
      "          1       0.28      0.77      0.42      6049\n",
      "\n",
      "avg / total       0.90      0.78      0.82     60000\n",
      "\n",
      "AUC:\n",
      "0.8571943947754016\n"
     ]
    }
   ],
   "source": [
    "# Create an object of Logistic Regression with default parameters\n",
    "logist = LogisticRegression(penalty = 'l2', solver = 'liblinear')\n",
    "# Fit the training data on this object\n",
    "%time logist.fit(X_train5050, Y_train5050)\n",
    "# Predict Y\n",
    "Y_pred = logist.predict_proba(X_test)[:,1] # array, no need to be series\n",
    "# print the score\n",
    "performance(Y_test, Y_pred)"
   ]
  },
  {
   "cell_type": "markdown",
   "metadata": {},
   "source": [
    "### 2.2.3 liblinear l1 (0.8572)"
   ]
  },
  {
   "cell_type": "code",
   "execution_count": 43,
   "metadata": {},
   "outputs": [
    {
     "name": "stdout",
     "output_type": "stream",
     "text": [
      "Wall time: 14min 52s\n",
      "\n",
      "Confusion Matrix:\n",
      "[[42206 11745]\n",
      " [ 1371  4678]]\n",
      "\n",
      "Classification Report:\n",
      "             precision    recall  f1-score   support\n",
      "\n",
      "          0       0.97      0.78      0.87     53951\n",
      "          1       0.28      0.77      0.42      6049\n",
      "\n",
      "avg / total       0.90      0.78      0.82     60000\n",
      "\n",
      "AUC:\n",
      "0.8572671511080975\n"
     ]
    }
   ],
   "source": [
    "# Create an object of Logistic Regression with default parameters\n",
    "logist = LogisticRegression(penalty = 'l1', solver = 'liblinear')\n",
    "# Fit the training data on this object\n",
    "%time logist.fit(X_train5050, Y_train5050)\n",
    "# Predict Y\n",
    "Y_pred = logist.predict_proba(X_test)[:,1] # array, no need to be series\n",
    "# print the score\n",
    "performance(Y_test, Y_pred)"
   ]
  },
  {
   "cell_type": "markdown",
   "metadata": {},
   "source": [
    "## 2.3 Some Feature engineering (Corr and scaling)\n",
    "* Reflections:\n",
    "    1. scaling:\n",
    "        * StandardScaler: de_mean and di_std\n",
    "        * MinMaxScaler: de_mean and di_range\n",
    "    2. correlation? Nope.\n",
    "* Future Improvemtns on Feature Engineering:\n",
    "    1. histogram on 199 var -> continuous or discrete?\n",
    "    2. JB test on 199 var -> normal distribution?\n",
    "    3. generate new features.\n",
    "* **Need more reflection on feature engineering, according to 3.4.3 of Docu-sklearn**."
   ]
  },
  {
   "cell_type": "markdown",
   "metadata": {},
   "source": [
    "### 2.3.1 Correlation: Neglectable\n",
    "* Hence:\n",
    "    * no PCA or similar de-dim methods;\n",
    "    * no overfitting on simply 200 var;\n",
    "    * no feature selection on simply 200 var."
   ]
  },
  {
   "cell_type": "code",
   "execution_count": 44,
   "metadata": {},
   "outputs": [
    {
     "name": "stdout",
     "output_type": "stream",
     "text": [
      "Biggest corr of X_train:  0.012902343440453178\n",
      "Wall time: 22.6 s\n"
     ]
    }
   ],
   "source": [
    "# find the biggest correlation_abs from \n",
    "%time print('Biggest corr of X_train: ', np.max(np.sort(np.abs(X_train.corr().values))[:,-2]))"
   ]
  },
  {
   "cell_type": "markdown",
   "metadata": {},
   "source": [
    "### 2.3.2 Standardize (Scaling): Neglectable\n",
    "* Tried two methods:\n",
    "    * by StandardScaler\n",
    "    * by MinMaxScaler\n",
    "* **Need more experiments on feature scaling and other engineering**."
   ]
  },
  {
   "cell_type": "code",
   "execution_count": 61,
   "metadata": {},
   "outputs": [],
   "source": [
    "# Scaling\n",
    "scaler1 = StandardScaler()\n",
    "scaler2 = MinMaxScaler()\n",
    "X_train5050_scaled1 = scaler1.fit_transform(X_train5050)\n",
    "X_train5050_scaled2 = scaler2.fit_transform(X_train5050)\n",
    "X_test_scaled1 = scaler1.fit_transform(X_test)\n",
    "X_test_scaled2 = scaler2.fit_transform(X_test)\n",
    "X_train_scaled1 = scaler1.fit_transform(X_train)\n",
    "X_train_scaled2 = scaler2.fit_transform(X_train)\n",
    "test_inp_scaled1 = scaler1.fit_transform(test_inp)\n",
    "test_inp_scaled2 = scaler2.fit_transform(test_inp)"
   ]
  },
  {
   "cell_type": "code",
   "execution_count": 51,
   "metadata": {},
   "outputs": [
    {
     "name": "stdout",
     "output_type": "stream",
     "text": [
      "Wall time: 509 ms\n",
      "\n",
      "Confusion Matrix:\n",
      "[[30144 23807]\n",
      " [  563  5486]]\n",
      "\n",
      "Classification Report:\n",
      "             precision    recall  f1-score   support\n",
      "\n",
      "          0       0.98      0.56      0.71     53951\n",
      "          1       0.19      0.91      0.31      6049\n",
      "\n",
      "avg / total       0.90      0.59      0.67     60000\n",
      "\n",
      "AUC:\n",
      "0.8578249578299619\n",
      "Wall time: 831 ms\n",
      "\n",
      "Confusion Matrix:\n",
      "[[39139 14812]\n",
      " [ 1070  4979]]\n",
      "\n",
      "Classification Report:\n",
      "             precision    recall  f1-score   support\n",
      "\n",
      "          0       0.97      0.73      0.83     53951\n",
      "          1       0.25      0.82      0.39      6049\n",
      "\n",
      "avg / total       0.90      0.74      0.79     60000\n",
      "\n",
      "AUC:\n",
      "0.8579402820102746\n"
     ]
    }
   ],
   "source": [
    "# scaler1 5050\n",
    "logist = LogisticRegression(penalty = 'l2', solver = 'liblinear')\n",
    "%time logist.fit(X_train5050_scaled1, Y_train5050)\n",
    "Y_pred = logist.predict_proba(X_test_scaled1)[:,1]\n",
    "performance(Y_test, Y_pred)\n",
    "# scaler2 5050\n",
    "logist = LogisticRegression(penalty = 'l2', solver = 'liblinear')\n",
    "%time logist.fit(X_train5050_scaled2, Y_train5050)\n",
    "Y_pred = logist.predict_proba(X_test_scaled2)[:,1]\n",
    "performance(Y_test, Y_pred)"
   ]
  },
  {
   "cell_type": "markdown",
   "metadata": {},
   "source": [
    "## 2.4 Baseline: balanced, liblinear, l2, minmaxscaler (0.8589) (0.860 submitted!)\n",
    "After experiments above, we come to the final model.\n",
    "* StandardScaler: 0.8588\n",
    "* MinMaxScaler: 0.8589"
   ]
  },
  {
   "cell_type": "code",
   "execution_count": 56,
   "metadata": {},
   "outputs": [
    {
     "name": "stdout",
     "output_type": "stream",
     "text": [
      "Wall time: 3.49 s\n",
      "\n",
      "Confusion Matrix:\n",
      "[[53202   749]\n",
      " [ 4400  1649]]\n",
      "\n",
      "Classification Report:\n",
      "             precision    recall  f1-score   support\n",
      "\n",
      "          0       0.92      0.99      0.95     53951\n",
      "          1       0.69      0.27      0.39      6049\n",
      "\n",
      "avg / total       0.90      0.91      0.90     60000\n",
      "\n",
      "AUC:\n",
      "0.8588551567363806\n"
     ]
    }
   ],
   "source": [
    "# scaler1\n",
    "logist = LogisticRegression(penalty = 'l2', solver = 'liblinear')\n",
    "%time logist.fit(X_train_scaled1, Y_train)\n",
    "Y_pred = logist.predict_proba(X_test_scaled1)[:,1]\n",
    "performance(Y_test, Y_pred)"
   ]
  },
  {
   "cell_type": "code",
   "execution_count": 57,
   "metadata": {},
   "outputs": [
    {
     "name": "stdout",
     "output_type": "stream",
     "text": [
      "Wall time: 6.22 s\n",
      "\n",
      "Confusion Matrix:\n",
      "[[53327   624]\n",
      " [ 4550  1499]]\n",
      "\n",
      "Classification Report:\n",
      "             precision    recall  f1-score   support\n",
      "\n",
      "          0       0.92      0.99      0.95     53951\n",
      "          1       0.71      0.25      0.37      6049\n",
      "\n",
      "avg / total       0.90      0.91      0.89     60000\n",
      "\n",
      "AUC:\n",
      "0.8588915563521191\n"
     ]
    }
   ],
   "source": [
    "# scaler2 5050\n",
    "logist = LogisticRegression(penalty = 'l2', solver = 'liblinear')\n",
    "%time logist.fit(X_train_scaled2, Y_train)\n",
    "Y_pred = logist.predict_proba(X_test_scaled2)[:,1]\n",
    "performance(Y_test, Y_pred)"
   ]
  },
  {
   "cell_type": "code",
   "execution_count": 67,
   "metadata": {},
   "outputs": [
    {
     "name": "stderr",
     "output_type": "stream",
     "text": [
      "C:\\Users\\Eli\\Anaconda3\\lib\\site-packages\\ipykernel_launcher.py:4: SettingWithCopyWarning: \n",
      "A value is trying to be set on a copy of a slice from a DataFrame.\n",
      "Try using .loc[row_indexer,col_indexer] = value instead\n",
      "\n",
      "See the caveats in the documentation: http://pandas.pydata.org/pandas-docs/stable/indexing.html#indexing-view-versus-copy\n",
      "  after removing the cwd from sys.path.\n"
     ]
    },
    {
     "name": "stdout",
     "output_type": "stream",
     "text": [
      "  ID_code    target\n",
      "0  test_0  0.177362\n",
      "1  test_1  0.242349\n",
      "2  test_2  0.040132\n",
      "3  test_3  0.207865\n",
      "4  test_4  0.060129\n"
     ]
    },
    {
     "data": {
      "text/plain": [
       "<matplotlib.axes._subplots.AxesSubplot at 0x1f17e25c4a8>"
      ]
     },
     "execution_count": 67,
     "metadata": {},
     "output_type": "execute_result"
    },
    {
     "data": {
      "image/png": "[encoded data removed]",
      "text/plain": [
       "<Figure size 432x288 with 1 Axes>"
      ]
     },
     "metadata": {},
     "output_type": "display_data"
    }
   ],
   "source": [
    "# Create the Submission\n",
    "Y_pred = logist.predict_proba(test_inp_scaled2)[:,1]\n",
    "submit = test[['ID_code']]\n",
    "submit['target'] = Y_pred\n",
    "print(submit.head())\n",
    "submit.to_csv('log_reg_baseline.csv', index = False)\n",
    "submit['target'].hist()"
   ]
  },
  {
   "cell_type": "markdown",
   "metadata": {},
   "source": [
    "## 2.5 K-Folder Cross Validation\n",
    "* When I need to find hyperparameters, I need to use validation set, or alternatively use cross validation."
   ]
  },
  {
   "cell_type": "code",
   "execution_count": 53,
   "metadata": {},
   "outputs": [
    {
     "name": "stdout",
     "output_type": "stream",
     "text": [
      "Wall time: 48.8 s\n",
      "Accuracy CV:  0.7679781782112746\n"
     ]
    }
   ],
   "source": [
    "# 5050 CV on penalty parameters(grid search)\n",
    "logist = LogisticRegressionCV(solver = 'lbfgs', cv = 5)\n",
    "%time logist.fit(X_train5050, Y_train5050)\n",
    "print('Accuracy CV: ', logist.score(X_test5050, Y_test5050))"
   ]
  },
  {
   "cell_type": "code",
   "execution_count": null,
   "metadata": {},
   "outputs": [],
   "source": []
  }
 ],
 "metadata": {
  "kernelspec": {
   "display_name": "Python 3",
   "language": "python",
   "name": "python3"
  },
  "language_info": {
   "codemirror_mode": {
    "name": "ipython",
    "version": 3
   },
   "file_extension": ".py",
   "mimetype": "text/x-python",
   "name": "python",
   "nbconvert_exporter": "python",
   "pygments_lexer": "ipython3",
   "version": "3.6.5"
  }
 },
 "nbformat": 4,
 "nbformat_minor": 2
}
